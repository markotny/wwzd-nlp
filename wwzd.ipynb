{
 "metadata": {
  "language_info": {
   "codemirror_mode": {
    "name": "ipython",
    "version": 3
   },
   "file_extension": ".py",
   "mimetype": "text/x-python",
   "name": "python",
   "nbconvert_exporter": "python",
   "pygments_lexer": "ipython3",
   "version": "3.8.3-final"
  },
  "orig_nbformat": 2,
  "kernelspec": {
   "name": "python3",
   "display_name": "Python 3"
  }
 },
 "nbformat": 4,
 "nbformat_minor": 2,
 "cells": [
  {
   "cell_type": "code",
   "execution_count": 1,
   "metadata": {},
   "outputs": [],
   "source": [
    "from glob import glob\n",
    "import matplotlib.pyplot as plt\n",
    "import fileinput\n",
    "import collections\n",
    "import re\n",
    "from gensim.models import KeyedVectors, WordEmbeddingSimilarityIndex, TfidfModel\n",
    "from gensim.similarities import MatrixSimilarity, SparseTermSimilarityMatrix, SoftCosineSimilarity\n",
    "from gensim.corpora import Dictionary\n",
    "import numpy as np\n",
    "np.seterr(divide='ignore', invalid='ignore')\n",
    "\n",
    "partie = [\n",
    "    'KO',\n",
    "    'Konfederacja',\n",
    "    'Lewica',\n",
    "    'niez',\n",
    "    'PiS',\n",
    "    'PSL-Kukiz15'\n",
    "]"
   ]
  },
  {
   "cell_type": "code",
   "execution_count": 2,
   "metadata": {},
   "outputs": [],
   "source": [
    "stopwords = open(\"polish.stopwords.txt\", encoding='utf-8').read().splitlines()\n",
    "\n",
    "documents = []\n",
    "\n",
    "for p in partie:\n",
    "    wypowiedzi_partii = ''\n",
    "    for posl in glob('partie/' + p + '/*'):\n",
    "        wypowiedzi = glob(posl + '/*')\n",
    "        with fileinput.input(wypowiedzi, openhook=fileinput.hook_encoded(\"windows-1250\")) as wyp:\n",
    "            for line in wyp:\n",
    "                wypowiedzi_partii += line\n",
    "\n",
    "    wypowiedzi_partii = wypowiedzi_partii.replace('\\n', ' ')\n",
    "    wypowiedzi_partii = re.sub('[,.:;!?()]', '', wypowiedzi_partii)\n",
    "\n",
    "    documents.append(\n",
    "        [word for word in wypowiedzi_partii.lower().split() if word not in stopwords])"
   ]
  },
  {
   "cell_type": "code",
   "execution_count": 5,
   "metadata": {},
   "outputs": [],
   "source": [
    "wv = KeyedVectors.load(\"word2vec_100_3_polish.bin\")\n",
    "dictionary = Dictionary(documents)\n",
    "tfidf = TfidfModel(dictionary=dictionary)"
   ]
  },
  {
   "cell_type": "code",
   "execution_count": 4,
   "metadata": {},
   "outputs": [],
   "source": [
    "similarity_index = WordEmbeddingSimilarityIndex(wv)\n",
    "similarity_matrix = SparseTermSimilarityMatrix(similarity_index, dictionary, tfidf)"
   ]
  },
  {
   "cell_type": "code",
   "execution_count": 5,
   "metadata": {},
   "outputs": [],
   "source": [
    "index = SoftCosineSimilarity(tfidf[[dictionary.doc2bow(document) for document in documents]], similarity_matrix)\n",
    "\n",
    "index.save('soft_cosine.index')"
   ]
  },
  {
   "cell_type": "code",
   "execution_count": 3,
   "metadata": {},
   "outputs": [],
   "source": [
    "index = SoftCosineSimilarity.load('soft_cosine.index')"
   ]
  },
  {
   "cell_type": "code",
   "execution_count": 63,
   "metadata": {},
   "outputs": [
    {
     "output_type": "stream",
     "name": "stdout",
     "text": [
      "Słowa nierozpoznane:  {'przed': 1}\n",
      "0.417 : Konfederacja\n",
      "0.106 : KO\n",
      "0.105 : Lewica\n",
      "0.102 : PiS\n",
      "0.100 : niez\n",
      "0.087 : PSL-Kukiz15\n"
     ]
    }
   ],
   "source": [
    "try:\n",
    "    # query = input(\"Query: \").lower().split()\n",
    "    query = \"musimy bronić kościołów przed inwazją lgbt\".lower().split()\n",
    "    bow = dictionary.doc2bow(query, return_missing=True)\n",
    "    query = tfidf[bow[0]]\n",
    "    print(\"Słowa nierozpoznane: \", bow[1])\n",
    "    similarities = index[query]\n",
    "    for score, partia in sorted(zip(similarities, partie), key= lambda t: t[0], reverse=True):\n",
    "        print('{:.3f} : {}'.format(score, partia))\n",
    "except Exception as e:\n",
    "    print(e)"
   ]
  },
  {
   "cell_type": "code",
   "execution_count": null,
   "metadata": {},
   "outputs": [],
   "source": []
  }
 ]
}