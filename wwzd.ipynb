{
 "metadata": {
  "language_info": {
   "codemirror_mode": {
    "name": "ipython",
    "version": 3
   },
   "file_extension": ".py",
   "mimetype": "text/x-python",
   "name": "python",
   "nbconvert_exporter": "python",
   "pygments_lexer": "ipython3",
   "version": "3.8.3-final"
  },
  "orig_nbformat": 2,
  "kernelspec": {
   "name": "python3",
   "display_name": "Python 3",
   "language": "python"
  }
 },
 "nbformat": 4,
 "nbformat_minor": 2,
 "cells": [
  {
   "cell_type": "code",
   "execution_count": 2,
   "metadata": {},
   "outputs": [],
   "source": [
    "from glob import glob\n",
    "import matplotlib.pyplot as plt\n",
    "import fileinput\n",
    "import collections\n",
    "import re\n",
    "from gensim.models import KeyedVectors, WordEmbeddingSimilarityIndex, TfidfModel\n",
    "from gensim.similarities import MatrixSimilarity, SparseTermSimilarityMatrix, SoftCosineSimilarity\n",
    "from gensim.corpora import Dictionary\n",
    "import numpy as np\n",
    "np.seterr(divide='ignore', invalid='ignore')\n",
    "\n",
    "partie = [\n",
    "    'KO',\n",
    "    'Konfederacja',\n",
    "    'Lewica',\n",
    "    'niez',\n",
    "    'PiS',\n",
    "    'PSL-Kukiz15'\n",
    "]"
   ]
  },
  {
   "cell_type": "code",
   "execution_count": 3,
   "metadata": {},
   "outputs": [],
   "source": [
    "stopwords = open(\"polish.stopwords.txt\", encoding='utf-8').read().splitlines()\n",
    "\n",
    "documents = []\n",
    "tags = []\n",
    "\n",
    "for p in partie:\n",
    "    wypowiedzi_partii = ''\n",
    "    for posl in glob('partie/' + p + '/*'):\n",
    "        wypowiedzi = glob(posl + '/*')\n",
    "\n",
    "        for wypowiedz in wypowiedzi:\n",
    "            tags.append(wypowiedz[len('partie/'):-len('.txt')].replace('\\\\',': '))\n",
    "            wyp_text = ''\n",
    "            with fileinput.input(wypowiedz, openhook=fileinput.hook_encoded(\"windows-1250\")) as wyp:\n",
    "                for line in wyp:\n",
    "                    wyp_text += line\n",
    "            \n",
    "            wyp_text = wyp_text.replace('\\n', ' ')\n",
    "            wyp_text = re.sub('[,.:;!?()]', '', wyp_text)\n",
    "            documents.append(\n",
    "                [word for word in wyp_text.lower().split() if word not in stopwords])"
   ]
  },
  {
   "cell_type": "code",
   "execution_count": 4,
   "metadata": {},
   "outputs": [],
   "source": [
    "wv = KeyedVectors.load(\"word2vec_100_3_polish.bin\")\n",
    "dictionary = Dictionary(documents)\n",
    "tfidf = TfidfModel(dictionary=dictionary)"
   ]
  },
  {
   "cell_type": "code",
   "execution_count": 5,
   "metadata": {},
   "outputs": [],
   "source": [
    "similarity_index = WordEmbeddingSimilarityIndex(wv)\n",
    "similarity_matrix = SparseTermSimilarityMatrix(similarity_index, dictionary, tfidf)"
   ]
  },
  {
   "cell_type": "code",
   "execution_count": 6,
   "metadata": {},
   "outputs": [],
   "source": [
    "index = SoftCosineSimilarity(tfidf[[dictionary.doc2bow(document) for document in documents]], similarity_matrix)\n",
    "\n",
    "index.save('soft_cosine.index')"
   ]
  },
  {
   "cell_type": "code",
   "execution_count": 7,
   "metadata": {},
   "outputs": [],
   "source": [
    "index = SoftCosineSimilarity.load('soft_cosine.index')"
   ]
  },
  {
   "cell_type": "code",
   "execution_count": 51,
   "metadata": {},
   "outputs": [
    {
     "output_type": "stream",
     "name": "stdout",
     "text": [
      "Słowa nierozpoznane:  {'są': 1, 'w': 1}\n",
      "0.916 : PiS: Ozdoba Jacek: 19-12-2019\n",
      "0.854 : Konfederacja: Berkowicz Konrad: 19-12-2019\n",
      "0.802 : Lewica: Śmiszek Krzysztof: 19-12-2019\n",
      "0.785 : Lewica: Nowicka Wanda: 24-07-2020\n",
      "0.778 : KO: Kierwiński Marcin: 06-04-2020\n",
      "0.775 : Lewica: Czarzasty Włodzimierz: 04-06-2020\n",
      "0.773 : KO: Jachira Klaudia: 14-08-2020\n",
      "0.763 : KO: Piątkowski Krzysztof: 12-02-2020\n",
      "0.757 : Lewica: Maciejewska Beata: 21-11-2019\n",
      "0.757 : Lewica: Gosek-Popiołek Daria: 06-05-2020\n",
      "0.632 : KO: Jaśkowiak Joanna: 09-01-2020\n",
      "0.632 : PiS: Płonka Elżbieta: 24-07-2020\n",
      "0.623 : Konfederacja: Braun Grzegorz: 30-04-2020\n",
      "0.615 : Konfederacja: Berkowicz Konrad: 23-01-2020\n",
      "0.614 : PiS: Ast Marek: 09-01-2020\n",
      "0.613 : KO: Kropiwnicki Robert: 20-12-2019\n",
      "0.613 : Lewica: Żukowska Anna Maria: 12-02-2020\n",
      "0.609 : KO: Piekarska Katarzyna Maria: 19-11-2019\n",
      "0.609 : Konfederacja: Kamiński Krystian: 20-12-2019\n",
      "0.609 : Konfederacja: Korwin-Mikke Janusz: 19-12-2019\n"
     ]
    }
   ],
   "source": [
    "try:\n",
    "    # query = input(\"Query: \").lower().split()\n",
    "    query = \"\".lower().split()\n",
    "    bow = dictionary.doc2bow(query, return_missing=True)\n",
    "    query = tfidf[bow[0]]\n",
    "    print(\"Słowa nierozpoznane: \", bow[1])\n",
    "    similarities = index[query]\n",
    "    for score, wyp in sorted(zip(similarities, tags), key= lambda t: t[0], reverse=True)[:20]:\n",
    "        print('{:.3f} : {}'.format(score, wyp))\n",
    "except Exception as e:\n",
    "    print(e)"
   ]
  },
  {
   "cell_type": "code",
   "execution_count": null,
   "metadata": {},
   "outputs": [],
   "source": []
  },
  {
   "cell_type": "code",
   "execution_count": null,
   "metadata": {},
   "outputs": [],
   "source": []
  }
 ]
}