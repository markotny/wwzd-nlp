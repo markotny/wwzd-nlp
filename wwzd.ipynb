{
 "metadata": {
  "language_info": {
   "codemirror_mode": {
    "name": "ipython",
    "version": 3
   },
   "file_extension": ".py",
   "mimetype": "text/x-python",
   "name": "python",
   "nbconvert_exporter": "python",
   "pygments_lexer": "ipython3",
   "version": "3.8.3-final"
  },
  "orig_nbformat": 2,
  "kernelspec": {
   "name": "python3",
   "display_name": "Python 3",
   "language": "python"
  }
 },
 "nbformat": 4,
 "nbformat_minor": 2,
 "cells": [
  {
   "cell_type": "code",
   "execution_count": 1,
   "metadata": {},
   "outputs": [],
   "source": [
    "from glob import glob\n",
    "import matplotlib.pyplot as plt\n",
    "import fileinput\n",
    "import collections\n",
    "import re\n",
    "from gensim.models import KeyedVectors, WordEmbeddingSimilarityIndex, TfidfModel\n",
    "from gensim.similarities import MatrixSimilarity, SparseTermSimilarityMatrix, SoftCosineSimilarity\n",
    "from gensim.corpora import Dictionary\n",
    "import numpy as np\n",
    "np.seterr(divide='ignore', invalid='ignore')\n",
    "\n",
    "partie = [\n",
    "    'KO',\n",
    "    'Konfederacja',\n",
    "    'Lewica',\n",
    "    'niez',\n",
    "    'PiS',\n",
    "    'PSL-Kukiz15'\n",
    "]"
   ]
  },
  {
   "cell_type": "code",
   "execution_count": 2,
   "metadata": {},
   "outputs": [],
   "source": [
    "stopwords = open(\"polish.stopwords.txt\", encoding='utf-8').read().splitlines()\n",
    "\n",
    "documents = []\n",
    "tags = []\n",
    "\n",
    "for p in partie:\n",
    "    wypowiedzi_partii = ''\n",
    "    for posl in glob('partie/' + p + '/*'):\n",
    "        wypowiedzi = glob(posl + '/*')\n",
    "\n",
    "        for wypowiedz in wypowiedzi:\n",
    "            tags.append(wypowiedz[len('partie/'):-len('.txt')].replace('\\\\',': '))\n",
    "            wyp_text = ''\n",
    "            with fileinput.input(wypowiedz, openhook=fileinput.hook_encoded(\"windows-1250\")) as wyp:\n",
    "                for line in wyp:\n",
    "                    wyp_text += line\n",
    "            \n",
    "            wyp_text = wyp_text.replace('\\n', ' ')\n",
    "            wyp_text = re.sub('[,.:;!?()]', '', wyp_text)\n",
    "            documents.append(\n",
    "                [word for word in wyp_text.lower().split() if word not in stopwords])"
   ]
  },
  {
   "cell_type": "code",
   "execution_count": 3,
   "metadata": {},
   "outputs": [],
   "source": [
    "model = KeyedVectors.load(\"fasttext_100_3_polish.bin\")\n",
    "dictionary = Dictionary(documents)\n",
    "tfidf = TfidfModel(dictionary=dictionary)"
   ]
  },
  {
   "cell_type": "code",
   "execution_count": 5,
   "metadata": {},
   "outputs": [],
   "source": [
    "similarity_index = WordEmbeddingSimilarityIndex(model.wv)\n",
    "similarity_matrix = SparseTermSimilarityMatrix(similarity_index, dictionary, tfidf)"
   ]
  },
  {
   "cell_type": "code",
   "execution_count": 6,
   "metadata": {},
   "outputs": [],
   "source": [
    "index = SoftCosineSimilarity(tfidf[[dictionary.doc2bow(document) for document in documents]], similarity_matrix)\n",
    "\n",
    "index.save('soft_cosine.index')"
   ]
  },
  {
   "cell_type": "code",
   "execution_count": 7,
   "metadata": {},
   "outputs": [],
   "source": [
    "index = SoftCosineSimilarity.load('soft_cosine.index')"
   ]
  },
  {
   "cell_type": "code",
   "execution_count": 11,
   "metadata": {},
   "outputs": [
    {
     "output_type": "stream",
     "name": "stdout",
     "text": [
      "Słowa nierozpoznane:  {}\n",
      "0.840 : PiS: Borowiak Joanna: 28-05-2020\n",
      "0.780 : PiS: Wargocka Teresa: 28-05-2020\n",
      "0.779 : PiS: Weber Rafał: 17-09-2020\n",
      "0.764 : PiS: Morawiecki Mateusz: 06-04-2020\n",
      "0.735 : Lewica: Czarzasty Włodzimierz: 08-01-2020\n",
      "0.722 : KO: Gajewska Aleksandra: 28-05-2020\n",
      "0.706 : KO: Chmiel Małgorzata: 27-10-2020\n",
      "0.704 : PiS: Maląg Marlena Magdalena: 30-04-2020\n",
      "0.704 : KO: Kołodziej Ewa: 12-02-2020\n",
      "0.701 : PSL-Kukiz15: Krajewski Stefan: 17-09-2020\n",
      "0.698 : KO: Budka Borys: 27-03-2020\n",
      "0.689 : PiS: Lisiecki Paweł: 20-12-2019\n",
      "0.684 : PSL-Kukiz15: Nowogórska Urszula: 16-09-2020\n",
      "0.683 : PiS: Machałek Marzena: 17-09-2020\n",
      "0.682 : PiS: Weber Rafał: 23-07-2020\n",
      "0.680 : PiS: Piecha Bolesław: 21-10-2020\n",
      "0.679 : Lewica: Krutul Paweł: 15-07-2020\n",
      "0.673 : PSL-Kukiz15: Rzepa Jarosław: 28-05-2020\n",
      "0.669 : PiS: Sipiera Zdzisław: 08-01-2020\n",
      "0.669 : Lewica: Tomaszewski Tadeusz: 28-05-2020\n"
     ]
    }
   ],
   "source": [
    "try:\n",
    "    # query = input(\"Query: \").lower().split()\n",
    "    query = \"musimy stworzyć dużą ilość żłobków\".lower().split()\n",
    "    bow = dictionary.doc2bow(query, return_missing=True)\n",
    "    query = tfidf[bow[0]]\n",
    "    print(\"Słowa nierozpoznane: \", bow[1])\n",
    "    similarities = index[query]\n",
    "    for score, wyp in sorted(zip(similarities, tags), key= lambda t: t[0], reverse=True)[:20]:\n",
    "        print('{:.3f} : {}'.format(score, wyp))\n",
    "except Exception as e:\n",
    "    print(e)"
   ]
  },
  {
   "cell_type": "code",
   "execution_count": null,
   "metadata": {},
   "outputs": [],
   "source": []
  },
  {
   "cell_type": "code",
   "execution_count": null,
   "metadata": {},
   "outputs": [],
   "source": []
  }
 ]
}